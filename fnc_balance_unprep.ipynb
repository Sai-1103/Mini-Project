{
 "cells": [
  {
   "cell_type": "markdown",
   "metadata": {},
   "source": [
    "## Importing Libraries,Dataset"
   ]
  },
  {
   "cell_type": "code",
   "execution_count": 1,
   "metadata": {},
   "outputs": [
    {
     "name": "stderr",
     "output_type": "stream",
     "text": [
      "[nltk_data] Downloading package stopwords to\n",
      "[nltk_data]     C:\\Users\\seshi\\AppData\\Roaming\\nltk_data...\n",
      "[nltk_data]   Package stopwords is already up-to-date!\n"
     ]
    }
   ],
   "source": [
    "import nltk\n",
    "nltk.download('stopwords')\n",
    "import pandas as pd\n",
    "import numpy as np\n",
    "import urllib.request\n",
    "import matplotlib.pyplot as plt\n",
    "from scipy import spatial\n",
    "from sklearn.manifold import TSNE"
   ]
  },
  {
   "cell_type": "code",
   "execution_count": 2,
   "metadata": {
    "id": "SCsqjRkbCtb4"
   },
   "outputs": [],
   "source": [
    "train_bodies=pd.read_csv('train_bodies.csv')\n",
    "train_stances=pd.read_csv('train_stances.csv')"
   ]
  },
  {
   "cell_type": "code",
   "execution_count": 3,
   "metadata": {
    "id": "FGRChnzAC0yc"
   },
   "outputs": [],
   "source": [
    "train_data=pd.merge(train_bodies,train_stances,how='left',on='Body ID')"
   ]
  },
  {
   "cell_type": "code",
   "execution_count": 4,
   "metadata": {
    "id": "gtPrr48hC5gt"
   },
   "outputs": [],
   "source": [
    "test_stance = pd.read_csv('competition_test_stances.csv')\n",
    "test_body = pd.read_csv('test_bodies.csv')"
   ]
  },
  {
   "cell_type": "code",
   "execution_count": 5,
   "metadata": {
    "id": "0G2BNjsHC8Pw"
   },
   "outputs": [],
   "source": [
    "test_data  = pd.merge( test_body, test_stance,how='left', on='Body ID')"
   ]
  },
  {
   "cell_type": "code",
   "execution_count": 6,
   "metadata": {
    "id": "Te8gmJWLDA-t"
   },
   "outputs": [],
   "source": [
    "target={'unrelated':0, 'agree':1, 'discuss':2, 'disagree':3}\n",
    "train_data['Stance']=train_data['Stance'].map(target)"
   ]
  },
  {
   "cell_type": "code",
   "execution_count": 7,
   "metadata": {
    "colab": {
     "base_uri": "https://localhost:8080/",
     "height": 423
    },
    "id": "SqE0nDpWDzWK",
    "outputId": "8d758471-1a0f-4c9c-e914-16dd28ecc35b"
   },
   "outputs": [
    {
     "data": {
      "text/html": [
       "<div>\n",
       "<style scoped>\n",
       "    .dataframe tbody tr th:only-of-type {\n",
       "        vertical-align: middle;\n",
       "    }\n",
       "\n",
       "    .dataframe tbody tr th {\n",
       "        vertical-align: top;\n",
       "    }\n",
       "\n",
       "    .dataframe thead th {\n",
       "        text-align: right;\n",
       "    }\n",
       "</style>\n",
       "<table border=\"1\" class=\"dataframe\">\n",
       "  <thead>\n",
       "    <tr style=\"text-align: right;\">\n",
       "      <th></th>\n",
       "      <th>Body ID</th>\n",
       "      <th>articleBody</th>\n",
       "      <th>Headline</th>\n",
       "      <th>Stance</th>\n",
       "    </tr>\n",
       "  </thead>\n",
       "  <tbody>\n",
       "    <tr>\n",
       "      <th>0</th>\n",
       "      <td>0</td>\n",
       "      <td>A small meteorite crashed into a wooded area i...</td>\n",
       "      <td>Soldier shot, Parliament locked down after gun...</td>\n",
       "      <td>0</td>\n",
       "    </tr>\n",
       "    <tr>\n",
       "      <th>1</th>\n",
       "      <td>0</td>\n",
       "      <td>A small meteorite crashed into a wooded area i...</td>\n",
       "      <td>Tourist dubbed ‘Spider Man’ after spider burro...</td>\n",
       "      <td>0</td>\n",
       "    </tr>\n",
       "    <tr>\n",
       "      <th>2</th>\n",
       "      <td>0</td>\n",
       "      <td>A small meteorite crashed into a wooded area i...</td>\n",
       "      <td>Luke Somers 'killed in failed rescue attempt i...</td>\n",
       "      <td>0</td>\n",
       "    </tr>\n",
       "    <tr>\n",
       "      <th>3</th>\n",
       "      <td>0</td>\n",
       "      <td>A small meteorite crashed into a wooded area i...</td>\n",
       "      <td>BREAKING: Soldier shot at War Memorial in Ottawa</td>\n",
       "      <td>0</td>\n",
       "    </tr>\n",
       "    <tr>\n",
       "      <th>4</th>\n",
       "      <td>0</td>\n",
       "      <td>A small meteorite crashed into a wooded area i...</td>\n",
       "      <td>Giant 8ft 9in catfish weighing 19 stone caught...</td>\n",
       "      <td>0</td>\n",
       "    </tr>\n",
       "    <tr>\n",
       "      <th>...</th>\n",
       "      <td>...</td>\n",
       "      <td>...</td>\n",
       "      <td>...</td>\n",
       "      <td>...</td>\n",
       "    </tr>\n",
       "    <tr>\n",
       "      <th>49967</th>\n",
       "      <td>2532</td>\n",
       "      <td>ANN ARBOR, Mich. – A pizza delivery man in Mic...</td>\n",
       "      <td>Pizza delivery man gets tipped more than $2,00...</td>\n",
       "      <td>1</td>\n",
       "    </tr>\n",
       "    <tr>\n",
       "      <th>49968</th>\n",
       "      <td>2532</td>\n",
       "      <td>ANN ARBOR, Mich. – A pizza delivery man in Mic...</td>\n",
       "      <td>Pizza delivery man gets $2,000 tip</td>\n",
       "      <td>1</td>\n",
       "    </tr>\n",
       "    <tr>\n",
       "      <th>49969</th>\n",
       "      <td>2532</td>\n",
       "      <td>ANN ARBOR, Mich. – A pizza delivery man in Mic...</td>\n",
       "      <td>Luckiest Pizza Delivery Guy Ever Gets $2,000 Tip</td>\n",
       "      <td>1</td>\n",
       "    </tr>\n",
       "    <tr>\n",
       "      <th>49970</th>\n",
       "      <td>2532</td>\n",
       "      <td>ANN ARBOR, Mich. – A pizza delivery man in Mic...</td>\n",
       "      <td>Ann Arbor pizza delivery driver surprised with...</td>\n",
       "      <td>1</td>\n",
       "    </tr>\n",
       "    <tr>\n",
       "      <th>49971</th>\n",
       "      <td>2532</td>\n",
       "      <td>ANN ARBOR, Mich. – A pizza delivery man in Mic...</td>\n",
       "      <td>Ann Arbor pizza delivery driver surprised with...</td>\n",
       "      <td>1</td>\n",
       "    </tr>\n",
       "  </tbody>\n",
       "</table>\n",
       "<p>49972 rows × 4 columns</p>\n",
       "</div>"
      ],
      "text/plain": [
       "       Body ID                                        articleBody  \\\n",
       "0            0  A small meteorite crashed into a wooded area i...   \n",
       "1            0  A small meteorite crashed into a wooded area i...   \n",
       "2            0  A small meteorite crashed into a wooded area i...   \n",
       "3            0  A small meteorite crashed into a wooded area i...   \n",
       "4            0  A small meteorite crashed into a wooded area i...   \n",
       "...        ...                                                ...   \n",
       "49967     2532  ANN ARBOR, Mich. – A pizza delivery man in Mic...   \n",
       "49968     2532  ANN ARBOR, Mich. – A pizza delivery man in Mic...   \n",
       "49969     2532  ANN ARBOR, Mich. – A pizza delivery man in Mic...   \n",
       "49970     2532  ANN ARBOR, Mich. – A pizza delivery man in Mic...   \n",
       "49971     2532  ANN ARBOR, Mich. – A pizza delivery man in Mic...   \n",
       "\n",
       "                                                Headline  Stance  \n",
       "0      Soldier shot, Parliament locked down after gun...       0  \n",
       "1      Tourist dubbed ‘Spider Man’ after spider burro...       0  \n",
       "2      Luke Somers 'killed in failed rescue attempt i...       0  \n",
       "3       BREAKING: Soldier shot at War Memorial in Ottawa       0  \n",
       "4      Giant 8ft 9in catfish weighing 19 stone caught...       0  \n",
       "...                                                  ...     ...  \n",
       "49967  Pizza delivery man gets tipped more than $2,00...       1  \n",
       "49968                 Pizza delivery man gets $2,000 tip       1  \n",
       "49969   Luckiest Pizza Delivery Guy Ever Gets $2,000 Tip       1  \n",
       "49970  Ann Arbor pizza delivery driver surprised with...       1  \n",
       "49971  Ann Arbor pizza delivery driver surprised with...       1  \n",
       "\n",
       "[49972 rows x 4 columns]"
      ]
     },
     "execution_count": 7,
     "metadata": {},
     "output_type": "execute_result"
    }
   ],
   "source": [
    "train_data"
   ]
  },
  {
   "cell_type": "code",
   "execution_count": 8,
   "metadata": {
    "id": "gVexyzJ3FSFQ"
   },
   "outputs": [],
   "source": [
    "test_data['Stance']=test_data['Stance'].map(target)"
   ]
  },
  {
   "cell_type": "code",
   "execution_count": 9,
   "metadata": {
    "id": "D6VDlgrAF0qk"
   },
   "outputs": [],
   "source": [
    "#unpreprocessed train data\n",
    "xtrain_unprepdata=train_data[['Headline','articleBody']]\n",
    "ytrain_unprepdata=train_data['Stance']\n",
    "#unpreprocessed text data\n",
    "xtest_unprepdata=test_data[['Headline','articleBody']]\n",
    "ytest_unprepdata=test_data['Stance']"
   ]
  },
  {
   "cell_type": "markdown",
   "metadata": {},
   "source": [
    "## Text to Sequence and Word Embedding"
   ]
  },
  {
   "cell_type": "code",
   "execution_count": 10,
   "metadata": {
    "id": "jg60j_d_LnVb"
   },
   "outputs": [],
   "source": [
    "from tensorflow.keras.preprocessing.text import Tokenizer\n",
    "from nltk.tokenize import word_tokenize\n",
    "X_train_combined = train_data['Headline'] + train_data['articleBody']\n",
    "X_train_combined = pd.DataFrame(X_train_combined)\n",
    "X_train_combined.columns = ['combined']"
   ]
  },
  {
   "cell_type": "code",
   "execution_count": 11,
   "metadata": {},
   "outputs": [
    {
     "data": {
      "text/plain": [
       "0        None\n",
       "1        None\n",
       "2        None\n",
       "3        None\n",
       "4        None\n",
       "         ... \n",
       "49967    None\n",
       "49968    None\n",
       "49969    None\n",
       "49970    None\n",
       "49971    None\n",
       "Name: combined, Length: 49972, dtype: object"
      ]
     },
     "execution_count": 11,
     "metadata": {},
     "output_type": "execute_result"
    }
   ],
   "source": [
    "tokens1=[]\n",
    "def tokens(text):\n",
    "    tokens=word_tokenize(text)\n",
    "    tokens1.append(tokens)\n",
    "X_train_combined['combined'].apply(tokens)"
   ]
  },
  {
   "cell_type": "code",
   "execution_count": 12,
   "metadata": {},
   "outputs": [],
   "source": [
    "tokenizer = Tokenizer(num_words=len(tokens1))\n",
    "tokenizer.fit_on_texts(X_train_combined['combined'])\n",
    "words_to_index = tokenizer.word_index"
   ]
  },
  {
   "cell_type": "code",
   "execution_count": 14,
   "metadata": {
    "id": "mZ9RkYGbNZ-7"
   },
   "outputs": [],
   "source": [
    "def read_glove_vector(glove_vec):\n",
    "  with open(glove_vec, 'r', encoding='UTF-8') as f:\n",
    "    words = set()\n",
    "    word_to_vec_map = {}\n",
    "    for line in f:\n",
    "      w_line = line.split()\n",
    "      curr_word = w_line[0]\n",
    "      word_to_vec_map[curr_word] = np.array(w_line[1:], dtype=np.float64)\n",
    "  return word_to_vec_map"
   ]
  },
  {
   "cell_type": "code",
   "execution_count": 15,
   "metadata": {
    "id": "6P3--nJ_9J8R"
   },
   "outputs": [],
   "source": [
    "word_to_vec_map = read_glove_vector('glove.6B.100d.txt')"
   ]
  },
  {
   "cell_type": "code",
   "execution_count": 16,
   "metadata": {
    "id": "NwpHM4GM-eeU"
   },
   "outputs": [],
   "source": [
    "vocab_len = len(words_to_index)\n",
    "embed_vector_len = word_to_vec_map['moon'].shape[0]\n",
    "\n",
    "emb_matrix = np.zeros((vocab_len, embed_vector_len))\n",
    "\n",
    "for word, index in words_to_index.items():\n",
    "  embedding_vector = word_to_vec_map.get(word)\n",
    "  if embedding_vector is not None:\n",
    "    emb_matrix[index, :] = embedding_vector\n"
   ]
  },
  {
   "cell_type": "code",
   "execution_count": 17,
   "metadata": {
    "id": "nj1Ac1icOhm-"
   },
   "outputs": [
    {
     "data": {
      "text/plain": [
       "4804"
      ]
     },
     "execution_count": 17,
     "metadata": {},
     "output_type": "execute_result"
    }
   ],
   "source": [
    "count=[]\n",
    "def max_len(text):\n",
    "    count.append(len(text.split()))\n",
    "X_train_combined['combined'].apply(max_len)\n",
    "max(count)"
   ]
  },
  {
   "cell_type": "markdown",
   "metadata": {},
   "source": [
    "## CNN-LSTM Model"
   ]
  },
  {
   "cell_type": "code",
   "execution_count": 27,
   "metadata": {
    "id": "IBuKxnO8_7-7"
   },
   "outputs": [],
   "source": [
    "from keras.models import Sequential, Model\n",
    "from keras.layers import Dense, Dropout, Activation, Flatten, Embedding, Input, Lambda, LSTM, Bidirectional\n",
    "from keras.layers.convolutional import Conv1D\n",
    "from keras.layers.pooling import MaxPooling1D, GlobalMaxPooling1D, AveragePooling1D\n",
    "from keras.layers import concatenate,dot\n",
    "from keras.utils import pad_sequences"
   ]
  },
  {
   "cell_type": "code",
   "execution_count": 19,
   "metadata": {},
   "outputs": [],
   "source": [
    "train_head = tokenizer.texts_to_sequences(train_data['Headline'])\n",
    "train_head = pad_sequences(train_head, maxlen=30, padding='post')\n",
    "train_body = tokenizer.texts_to_sequences(train_data['articleBody'])\n",
    "train_body = pad_sequences(train_body, maxlen=500, padding='post')\n",
    "test_head = tokenizer.texts_to_sequences(test_data['Headline'])\n",
    "test_head = pad_sequences(test_head, maxlen=30, padding='post')\n",
    "test_body = tokenizer.texts_to_sequences(test_data['articleBody'])\n",
    "test_body = pad_sequences(test_body, maxlen=500, padding='post')"
   ]
  },
  {
   "cell_type": "code",
   "execution_count": 80,
   "metadata": {},
   "outputs": [],
   "source": [
    "result = pd.concat([pd.DataFrame(train_head), pd.DataFrame(train_body)], axis=1, join='inner')\n",
    "y_train = train_data['Stance']"
   ]
  },
  {
   "cell_type": "code",
   "execution_count": 81,
   "metadata": {},
   "outputs": [],
   "source": [
    "from imblearn.over_sampling import SMOTE\n",
    "sm = SMOTE(random_state = 2)\n",
    "result,y_train  = sm.fit_resample(result, y_train)"
   ]
  },
  {
   "cell_type": "code",
   "execution_count": 87,
   "metadata": {},
   "outputs": [
    {
     "name": "stdout",
     "output_type": "stream",
     "text": [
      "Model: \"model_7\"\n",
      "__________________________________________________________________________________________________\n",
      " Layer (type)                   Output Shape         Param #     Connected to                     \n",
      "==================================================================================================\n",
      " head_input (InputLayer)        [(None, 30)]         0           []                               \n",
      "                                                                                                  \n",
      " body_input (InputLayer)        [(None, 500)]        0           []                               \n",
      "                                                                                                  \n",
      " embedding_8 (Embedding)        multiple             4973900     ['head_input[0][0]',             \n",
      "                                                                  'body_input[0][0]']             \n",
      "                                                                                                  \n",
      " conv1 (Conv1D)                 (None, 26, 64)       32064       ['embedding_8[0][0]']            \n",
      "                                                                                                  \n",
      " conv2 (Conv1D)                 (None, 496, 64)      32064       ['embedding_8[1][0]']            \n",
      "                                                                                                  \n",
      " pool3 (MaxPooling1D)           multiple             0           ['conv1[0][0]',                  \n",
      "                                                                  'conv2[0][0]']                  \n",
      "                                                                                                  \n",
      " flatten_14 (Flatten)           (None, 768)          0           ['pool3[0][0]']                  \n",
      "                                                                                                  \n",
      " flatten_15 (Flatten)           (None, 15808)        0           ['pool3[1][0]']                  \n",
      "                                                                                                  \n",
      " concatenate_7 (Concatenate)    (None, 16576)        0           ['flatten_14[0][0]',             \n",
      "                                                                  'flatten_15[0][0]']             \n",
      "                                                                                                  \n",
      " reshape_7 (Reshape)            (None, 1, 16576)     0           ['concatenate_7[0][0]']          \n",
      "                                                                                                  \n",
      " lstm_7 (LSTM)                  (None, 32)           2125952     ['reshape_7[0][0]']              \n",
      "                                                                                                  \n",
      " dense_14 (Dense)               (None, 100)          3300        ['lstm_7[0][0]']                 \n",
      "                                                                                                  \n",
      " dropout_7 (Dropout)            (None, 100)          0           ['dense_14[0][0]']               \n",
      "                                                                                                  \n",
      " dense_15 (Dense)               (None, 4)            404         ['dropout_7[0][0]']              \n",
      "                                                                                                  \n",
      "==================================================================================================\n",
      "Total params: 7,167,684\n",
      "Trainable params: 2,193,784\n",
      "Non-trainable params: 4,973,900\n",
      "__________________________________________________________________________________________________\n",
      "None\n"
     ]
    }
   ],
   "source": [
    "from keras.layers import Reshape\n",
    "head_input = Input(shape=(30,), dtype='int32', name='head_input')\n",
    "body_input = Input(shape=(500,), dtype='int32', name='body_input')\n",
    "embedding_layer = Embedding(len(words_to_index),100,weights=[emb_matrix],input_length=max(count),trainable=False)\n",
    "head_embed = embedding_layer(head_input)\n",
    "body_embed = embedding_layer(body_input)\n",
    "\n",
    "pool_1 = MaxPooling1D(pool_size=3, strides=2, name='pool3')\n",
    "conv_1 = Conv1D(64, 5, activation='relu', name='conv1')\n",
    "head_CNN = conv_1(head_embed)\n",
    "head_CNN = pool_1(head_CNN)\n",
    "head_CNN = Flatten()(head_CNN)\n",
    "conv_2 = Conv1D(64, 5, activation='relu', name='conv2')\n",
    "body_CNN = conv_2(body_embed)\n",
    "body_CNN = pool_1(body_CNN)\n",
    "body_CNN = Flatten()(body_CNN)\n",
    "conc = concatenate([head_CNN,body_CNN])\n",
    "\n",
    "lstm_input = Reshape((-1, conc.shape[1]))(conc)\n",
    "lstm = LSTM(32)(lstm_input)\n",
    "\n",
    "dense = Dense(100,activation='relu')(lstm)\n",
    "dense = Dropout(0.3)(dense)\n",
    "dense = Dense(4,activation='softmax')(dense)\n",
    "model = Model(inputs=[head_input,body_input], outputs=[dense])\n",
    "model.compile(optimizer='adam', loss='sparse_categorical_crossentropy',metrics=['acc'])\n",
    "print(model.summary())"
   ]
  },
  {
   "cell_type": "code",
   "execution_count": 84,
   "metadata": {},
   "outputs": [],
   "source": [
    "test_x = pd.concat([pd.DataFrame(test_head), pd.DataFrame(test_body)], axis=1, join='inner')"
   ]
  },
  {
   "cell_type": "code",
   "execution_count": 88,
   "metadata": {
    "scrolled": false
   },
   "outputs": [
    {
     "name": "stdout",
     "output_type": "stream",
     "text": [
      "Epoch 1/4\n",
      "1143/1143 [==============================] - 523s 444ms/step - loss: 0.6199 - acc: 0.7464 - val_loss: 1.5126 - val_acc: 0.5148\n",
      "Epoch 2/4\n",
      "1143/1143 [==============================] - 502s 439ms/step - loss: 0.3566 - acc: 0.8631 - val_loss: 2.2764 - val_acc: 0.4258\n",
      "Epoch 3/4\n",
      "1143/1143 [==============================] - 464s 406ms/step - loss: 0.2628 - acc: 0.9009 - val_loss: 2.2047 - val_acc: 0.4846\n",
      "Epoch 4/4\n",
      "1143/1143 [==============================] - 462s 404ms/step - loss: 0.2066 - acc: 0.9238 - val_loss: 2.3194 - val_acc: 0.4714\n"
     ]
    },
    {
     "data": {
      "text/plain": [
       "<keras.callbacks.History at 0x24cb1731f10>"
      ]
     },
     "execution_count": 88,
     "metadata": {},
     "output_type": "execute_result"
    }
   ],
   "source": [
    "model.fit([result.iloc[:,:30],result.iloc[:,30:]],y_train,validation_data = ([test_x.iloc[:,:30],test_x.iloc[:,30:]],ytest_unprepdata),epochs=4, batch_size=128,verbose = True)"
   ]
  },
  {
   "cell_type": "code",
   "execution_count": 89,
   "metadata": {},
   "outputs": [
    {
     "name": "stdout",
     "output_type": "stream",
     "text": [
      "795/795 [==============================] - 32s 37ms/step\n"
     ]
    }
   ],
   "source": [
    "y_pred = model.predict([test_x.iloc[:,:30],test_x.iloc[:,30:]])"
   ]
  },
  {
   "cell_type": "code",
   "execution_count": 90,
   "metadata": {},
   "outputs": [
    {
     "name": "stdout",
     "output_type": "stream",
     "text": [
      "[0 3 0 ... 0 3 0]\n"
     ]
    }
   ],
   "source": [
    "labels = np.argmax(y_pred, axis=-1)    \n",
    "print(labels)"
   ]
  },
  {
   "cell_type": "code",
   "execution_count": 91,
   "metadata": {},
   "outputs": [
    {
     "data": {
      "text/plain": [
       "array([[9000, 2872, 5989,  488],\n",
       "       [ 626,  575,  623,   79],\n",
       "       [1336,  652, 2374,  102],\n",
       "       [ 227,  151,  288,   31]], dtype=int64)"
      ]
     },
     "execution_count": 91,
     "metadata": {},
     "output_type": "execute_result"
    }
   ],
   "source": [
    "from sklearn.metrics import confusion_matrix\n",
    "cm = confusion_matrix(ytest_unprepdata,labels)\n",
    "cm"
   ]
  },
  {
   "cell_type": "code",
   "execution_count": 92,
   "metadata": {},
   "outputs": [
    {
     "data": {
      "text/plain": [
       "<AxesSubplot:>"
      ]
     },
     "execution_count": 92,
     "metadata": {},
     "output_type": "execute_result"
    },
    {
     "data": {
      "image/png": "[encoded data removed]",
      "text/plain": [
       "<Figure size 640x480 with 2 Axes>"
      ]
     },
     "metadata": {},
     "output_type": "display_data"
    }
   ],
   "source": [
    "import seaborn as sns\n",
    "sns.heatmap(cm, annot=True)"
   ]
  },
  {
   "cell_type": "code",
   "execution_count": null,
   "metadata": {},
   "outputs": [],
   "source": []
  }
 ],
 "metadata": {
  "colab": {
   "provenance": []
  },
  "kernelspec": {
   "display_name": "Python 3 (ipykernel)",
   "language": "python",
   "name": "python3"
  },
  "language_info": {
   "codemirror_mode": {
    "name": "ipython",
    "version": 3
   },
   "file_extension": ".py",
   "mimetype": "text/x-python",
   "name": "python",
   "nbconvert_exporter": "python",
   "pygments_lexer": "ipython3",
   "version": "3.9.13"
  }
 },
 "nbformat": 4,
 "nbformat_minor": 1
}
